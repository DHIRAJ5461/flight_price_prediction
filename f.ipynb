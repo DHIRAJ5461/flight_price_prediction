{
 "cells": [
  {
   "cell_type": "code",
   "execution_count": 1,
   "id": "7e554374-36af-4d55-a4c4-5c9f5f1b952b",
   "metadata": {
    "tags": []
   },
   "outputs": [],
   "source": [
    "import streamlit as st\n",
    "import pickle as pkl"
   ]
  },
  {
   "cell_type": "code",
   "execution_count": null,
   "id": "95162220-2e3f-483b-9b9e-fcfa1470ec05",
   "metadata": {},
   "outputs": [],
   "source": [
    "!streamlit run \"C:/Users/gkkha/Dhiraj/src/flight_1.py\""
   ]
  },
  {
   "cell_type": "code",
   "execution_count": null,
   "id": "9e077e6d-0e57-4aa4-8cb9-62d39cdb6b90",
   "metadata": {},
   "outputs": [],
   "source": []
  }
 ],
 "metadata": {
  "kernelspec": {
   "display_name": "Python 3 (ipykernel)",
   "language": "python",
   "name": "python3"
  },
  "language_info": {
   "codemirror_mode": {
    "name": "ipython",
    "version": 3
   },
   "file_extension": ".py",
   "mimetype": "text/x-python",
   "name": "python",
   "nbconvert_exporter": "python",
   "pygments_lexer": "ipython3",
   "version": "3.9.12"
  }
 },
 "nbformat": 4,
 "nbformat_minor": 5
}
